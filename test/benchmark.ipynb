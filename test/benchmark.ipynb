{
 "cells": [
  {
   "cell_type": "code",
   "execution_count": null,
   "metadata": {},
   "outputs": [],
   "source": [
    "import numpy as np\n",
    "\n",
    "from benchmark import benchmark_and_verify\n",
    "\n",
    "BIT_LENGTHS = [256, 512] # SHA3-256, SHA3-512\n",
    "NUM_ITERATIONS = 1000    # Number of iterations to run\n",
    "\n",
    "for bit_length in BIT_LENGTHS:\n",
    "\n",
    "    # First, test empty input\n",
    "    benchmark_and_verify(bit_length, bytes(), NUM_ITERATIONS)\n",
    "\n",
    "    # Test 'Hello, World!' input\n",
    "    benchmark_and_verify(bit_length, bytes('Hello, World!', 'utf-8'), NUM_ITERATIONS)\n",
    "\n",
    "    # Test random 1000 bytes\n",
    "    benchmark_and_verify(bit_length, np.random.bytes(1000), NUM_ITERATIONS)"
   ]
  }
 ],
 "metadata": {
  "kernelspec": {
   "display_name": "sha-3-numba-w1HLvVn5",
   "language": "python",
   "name": "python3"
  },
  "language_info": {
   "codemirror_mode": {
    "name": "ipython",
    "version": 3
   },
   "file_extension": ".py",
   "mimetype": "text/x-python",
   "name": "python",
   "nbconvert_exporter": "python",
   "pygments_lexer": "ipython3",
   "version": "3.11.5"
  }
 },
 "nbformat": 4,
 "nbformat_minor": 2
}
