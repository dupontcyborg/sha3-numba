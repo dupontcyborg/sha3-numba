{
 "cells": [
  {
   "cell_type": "code",
   "execution_count": 2,
   "metadata": {},
   "outputs": [
    {
     "name": "stdout",
     "output_type": "stream",
     "text": [
      "Input Length: 0 bytes, Iterations: 1000\n",
      "Python  SHA3-256 Time: 1.0617 s, Hashes/s: 941.9, Length: 64, Hash: a7ffc6f8bf1ed76651c14756a061d662f580ff4de43b49fa82d80a4b80f8434a\n",
      "Numba   SHA3-256 Time: 0.0017 s, Hashes/s: 596125.2, Length: 64, Hash: a7ffc6f8bf1ed76651c14756a061d662f580ff4de43b49fa82d80a4b80f8434a\n",
      "HashLib SHA3-256 Time: 0.0006 s, Hashes/s: 1704184.4, Length: 64, Hash: a7ffc6f8bf1ed76651c14756a061d662f580ff4de43b49fa82d80a4b80f8434a\n",
      "Verification: PASSED\n",
      "\n",
      "Input Length: 13 bytes, Iterations: 1000\n",
      "Python  SHA3-256 Time: 1.0526 s, Hashes/s: 950.0, Length: 64, Hash: 1af17a664e3fa8e419b8ba05c2a173169df76162a5a286e0c405b460d478f7ef\n",
      "Numba   SHA3-256 Time: 0.0017 s, Hashes/s: 573435.6, Length: 64, Hash: 1af17a664e3fa8e419b8ba05c2a173169df76162a5a286e0c405b460d478f7ef\n",
      "HashLib SHA3-256 Time: 0.0006 s, Hashes/s: 1667361.2, Length: 64, Hash: 1af17a664e3fa8e419b8ba05c2a173169df76162a5a286e0c405b460d478f7ef\n",
      "Verification: PASSED\n",
      "\n",
      "Input Length: 1000 bytes, Iterations: 1000\n",
      "Python  SHA3-256 Time: 8.6213 s, Hashes/s: 116.0, Length: 64, Hash: 059d4d3e791e2fe8731811cad87c33d7e5e2c99ccc54b58fe3fe8ba07f1f0ede\n",
      "Numba   SHA3-256 Time: 0.0056 s, Hashes/s: 179011.0, Length: 64, Hash: 059d4d3e791e2fe8731811cad87c33d7e5e2c99ccc54b58fe3fe8ba07f1f0ede\n",
      "HashLib SHA3-256 Time: 0.0021 s, Hashes/s: 484907.2, Length: 64, Hash: 059d4d3e791e2fe8731811cad87c33d7e5e2c99ccc54b58fe3fe8ba07f1f0ede\n",
      "Verification: PASSED\n",
      "\n",
      "Input Length: 0 bytes, Iterations: 1000\n",
      "Python  SHA3-512 Time: 1.0603 s, Hashes/s: 943.1, Length: 128, Hash: a69f73cca23a9ac5c8b567dc185a756e97c982164fe25859e0d1dcc1475c80a615b2123af1f5f94c11e3e9402c3ac558f500199d95b6d3e301758586281dcd26\n",
      "Numba   SHA3-512 Time: 0.0020 s, Hashes/s: 511716.0, Length: 128, Hash: a69f73cca23a9ac5c8b567dc185a756e97c982164fe25859e0d1dcc1475c80a615b2123af1f5f94c11e3e9402c3ac558f500199d95b6d3e301758586281dcd26\n",
      "HashLib SHA3-512 Time: 0.0006 s, Hashes/s: 1625025.7, Length: 128, Hash: a69f73cca23a9ac5c8b567dc185a756e97c982164fe25859e0d1dcc1475c80a615b2123af1f5f94c11e3e9402c3ac558f500199d95b6d3e301758586281dcd26\n",
      "Verification: PASSED\n",
      "\n",
      "Input Length: 13 bytes, Iterations: 1000\n",
      "Python  SHA3-512 Time: 1.0577 s, Hashes/s: 945.4, Length: 128, Hash: 38e05c33d7b067127f217d8c856e554fcff09c9320b8a5979ce2ff5d95dd27ba35d1fba50c562dfd1d6cc48bc9c5baa4390894418cc942d968f97bcb659419ed\n",
      "Numba   SHA3-512 Time: 0.0021 s, Hashes/s: 471457.3, Length: 128, Hash: 38e05c33d7b067127f217d8c856e554fcff09c9320b8a5979ce2ff5d95dd27ba35d1fba50c562dfd1d6cc48bc9c5baa4390894418cc942d968f97bcb659419ed\n",
      "HashLib SHA3-512 Time: 0.0006 s, Hashes/s: 1599894.8, Length: 128, Hash: 38e05c33d7b067127f217d8c856e554fcff09c9320b8a5979ce2ff5d95dd27ba35d1fba50c562dfd1d6cc48bc9c5baa4390894418cc942d968f97bcb659419ed\n",
      "Verification: PASSED\n",
      "\n",
      "Input Length: 1000 bytes, Iterations: 1000\n",
      "Python  SHA3-512 Time: 15.1406 s, Hashes/s: 66.0, Length: 128, Hash: ad432f581f5522c23b2772afc3858bb260aae382b0a991d226734421c2f896c6f00000ca6a4c138fcb7a8bc77a2d5cf18a65d2e5200aabd745914c5dbf8d8428\n",
      "Numba   SHA3-512 Time: 0.0086 s, Hashes/s: 116573.3, Length: 128, Hash: ad432f581f5522c23b2772afc3858bb260aae382b0a991d226734421c2f896c6f00000ca6a4c138fcb7a8bc77a2d5cf18a65d2e5200aabd745914c5dbf8d8428\n",
      "HashLib SHA3-512 Time: 0.0034 s, Hashes/s: 297077.5, Length: 128, Hash: ad432f581f5522c23b2772afc3858bb260aae382b0a991d226734421c2f896c6f00000ca6a4c138fcb7a8bc77a2d5cf18a65d2e5200aabd745914c5dbf8d8428\n",
      "Verification: PASSED\n",
      "\n"
     ]
    }
   ],
   "source": [
    "import numpy as np\n",
    "\n",
    "from benchmark import benchmark_and_verify\n",
    "\n",
    "BIT_LENGTHS = [256, 512] # SHA3-256, SHA3-512\n",
    "NUM_ITERATIONS = 1000    # Number of iterations to run\n",
    "USE_CUDA = False         # Set to true to test CUDA\n",
    "\n",
    "for bit_length in BIT_LENGTHS:\n",
    "\n",
    "    # First, test empty input\n",
    "    benchmark_and_verify(bit_length, bytes(), NUM_ITERATIONS)\n",
    "\n",
    "    # Test 'Hello, World!' input\n",
    "    benchmark_and_verify(bit_length, bytes('Hello, World!', 'utf-8'), NUM_ITERATIONS)\n",
    "\n",
    "    # Test random 1000 bytes\n",
    "    benchmark_and_verify(bit_length, np.random.bytes(1000), NUM_ITERATIONS)"
   ]
  }
 ],
 "metadata": {
  "kernelspec": {
   "display_name": "sha-3-numba-w1HLvVn5",
   "language": "python",
   "name": "python3"
  },
  "language_info": {
   "codemirror_mode": {
    "name": "ipython",
    "version": 3
   },
   "file_extension": ".py",
   "mimetype": "text/x-python",
   "name": "python",
   "nbconvert_exporter": "python",
   "pygments_lexer": "ipython3",
   "version": "3.11.5"
  }
 },
 "nbformat": 4,
 "nbformat_minor": 2
}
