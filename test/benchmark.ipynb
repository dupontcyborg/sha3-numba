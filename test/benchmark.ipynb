{
 "cells": [
  {
   "cell_type": "code",
   "execution_count": 2,
   "metadata": {},
   "outputs": [
    {
     "name": "stdout",
     "output_type": "stream",
     "text": [
      "Input Length: 0 bytes, Iterations: 1000\n",
      "Python  SHA3-256 Time: 0.7964 s, Hashes/s: 1255.6, Length: 64, Hash: a7ffc6f8bf1ed76651c14756a061d662f580ff4de43b49fa82d80a4b80f8434a\n",
      "Numba   SHA3-256 Time: 0.0017 s, Hashes/s: 588783.6, Length: 64, Hash: a7ffc6f8bf1ed76651c14756a061d662f580ff4de43b49fa82d80a4b80f8434a\n",
      "HashLib SHA3-256 Time: 0.0006 s, Hashes/s: 1574803.3, Length: 64, Hash: a7ffc6f8bf1ed76651c14756a061d662f580ff4de43b49fa82d80a4b80f8434a\n",
      "Verification: PASSED\n",
      "\n",
      "Input Length: 13 bytes, Iterations: 1000\n",
      "Python  SHA3-256 Time: 0.8059 s, Hashes/s: 1240.8, Length: 64, Hash: 1af17a664e3fa8e419b8ba05c2a173169df76162a5a286e0c405b460d478f7ef\n",
      "Numba   SHA3-256 Time: 0.0017 s, Hashes/s: 575291.2, Length: 64, Hash: 1af17a664e3fa8e419b8ba05c2a173169df76162a5a286e0c405b460d478f7ef\n",
      "HashLib SHA3-256 Time: 0.0006 s, Hashes/s: 1606639.7, Length: 64, Hash: 1af17a664e3fa8e419b8ba05c2a173169df76162a5a286e0c405b460d478f7ef\n",
      "Verification: PASSED\n",
      "\n",
      "Input Length: 1000 bytes, Iterations: 1000\n",
      "Python  SHA3-256 Time: 6.3804 s, Hashes/s: 156.7, Length: 64, Hash: f6a73823e7cc7f5ed372c50898449e45f304e2009e38eb64acc0a6666c91e9c2\n",
      "Numba   SHA3-256 Time: 0.0057 s, Hashes/s: 174700.5, Length: 64, Hash: f6a73823e7cc7f5ed372c50898449e45f304e2009e38eb64acc0a6666c91e9c2\n",
      "HashLib SHA3-256 Time: 0.0021 s, Hashes/s: 479003.6, Length: 64, Hash: f6a73823e7cc7f5ed372c50898449e45f304e2009e38eb64acc0a6666c91e9c2\n",
      "Verification: PASSED\n",
      "\n",
      "Input Length: 0 bytes, Iterations: 1000\n",
      "Python  SHA3-512 Time: 0.8033 s, Hashes/s: 1244.8, Length: 128, Hash: a69f73cca23a9ac5c8b567dc185a756e97c982164fe25859e0d1dcc1475c80a615b2123af1f5f94c11e3e9402c3ac558f500199d95b6d3e301758586281dcd26\n",
      "Numba   SHA3-512 Time: 0.0021 s, Hashes/s: 482674.2, Length: 128, Hash: a69f73cca23a9ac5c8b567dc185a756e97c982164fe25859e0d1dcc1475c80a615b2123af1f5f94c11e3e9402c3ac558f500199d95b6d3e301758586281dcd26\n",
      "HashLib SHA3-512 Time: 0.0006 s, Hashes/s: 1652551.2, Length: 128, Hash: a69f73cca23a9ac5c8b567dc185a756e97c982164fe25859e0d1dcc1475c80a615b2123af1f5f94c11e3e9402c3ac558f500199d95b6d3e301758586281dcd26\n",
      "Verification: PASSED\n",
      "\n",
      "Input Length: 13 bytes, Iterations: 1000\n",
      "Python  SHA3-512 Time: 0.7980 s, Hashes/s: 1253.2, Length: 128, Hash: 38e05c33d7b067127f217d8c856e554fcff09c9320b8a5979ce2ff5d95dd27ba35d1fba50c562dfd1d6cc48bc9c5baa4390894418cc942d968f97bcb659419ed\n",
      "Numba   SHA3-512 Time: 0.0021 s, Hashes/s: 481483.1, Length: 128, Hash: 38e05c33d7b067127f217d8c856e554fcff09c9320b8a5979ce2ff5d95dd27ba35d1fba50c562dfd1d6cc48bc9c5baa4390894418cc942d968f97bcb659419ed\n",
      "HashLib SHA3-512 Time: 0.0006 s, Hashes/s: 1612359.3, Length: 128, Hash: 38e05c33d7b067127f217d8c856e554fcff09c9320b8a5979ce2ff5d95dd27ba35d1fba50c562dfd1d6cc48bc9c5baa4390894418cc942d968f97bcb659419ed\n",
      "Verification: PASSED\n",
      "\n",
      "Input Length: 1000 bytes, Iterations: 1000\n",
      "Python  SHA3-512 Time: 11.0423 s, Hashes/s: 90.6, Length: 128, Hash: c7e5f1659986a1a8691b233df835c4af7d3b7b03681022f317941eb977ddcecb41a56d3d09bf136b1df20075a44aec810c9367e65be3cba30546b54856808e7a\n",
      "Numba   SHA3-512 Time: 0.0087 s, Hashes/s: 115141.0, Length: 128, Hash: c7e5f1659986a1a8691b233df835c4af7d3b7b03681022f317941eb977ddcecb41a56d3d09bf136b1df20075a44aec810c9367e65be3cba30546b54856808e7a\n",
      "HashLib SHA3-512 Time: 0.0033 s, Hashes/s: 306893.6, Length: 128, Hash: c7e5f1659986a1a8691b233df835c4af7d3b7b03681022f317941eb977ddcecb41a56d3d09bf136b1df20075a44aec810c9367e65be3cba30546b54856808e7a\n",
      "Verification: PASSED\n",
      "\n"
     ]
    }
   ],
   "source": [
    "import numpy as np\n",
    "\n",
    "from benchmark import benchmark_and_verify\n",
    "\n",
    "BIT_LENGTHS = [256, 512] # SHA3-256, SHA3-512\n",
    "NUM_ITERATIONS = 1000    # Number of iterations to run\n",
    "USE_CUDA = False         # Set to true to test CUDA\n",
    "\n",
    "for bit_length in BIT_LENGTHS:\n",
    "\n",
    "    # First, test empty input\n",
    "    benchmark_and_verify(bit_length, bytes(), NUM_ITERATIONS)\n",
    "\n",
    "    # Test 'Hello, World!' input\n",
    "    benchmark_and_verify(bit_length, bytes('Hello, World!', 'utf-8'), NUM_ITERATIONS)\n",
    "\n",
    "    # Test random 1000 bytes\n",
    "    benchmark_and_verify(bit_length, np.random.bytes(1000), NUM_ITERATIONS)"
   ]
  }
 ],
 "metadata": {
  "kernelspec": {
   "display_name": "sha-3-numba-w1HLvVn5",
   "language": "python",
   "name": "python3"
  },
  "language_info": {
   "codemirror_mode": {
    "name": "ipython",
    "version": 3
   },
   "file_extension": ".py",
   "mimetype": "text/x-python",
   "name": "python",
   "nbconvert_exporter": "python",
   "pygments_lexer": "ipython3",
   "version": "3.11.5"
  }
 },
 "nbformat": 4,
 "nbformat_minor": 2
}
