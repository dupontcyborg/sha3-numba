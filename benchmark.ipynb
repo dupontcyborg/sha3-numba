{
 "cells": [
  {
   "cell_type": "code",
   "execution_count": null,
   "metadata": {},
   "outputs": [],
   "source": [
    "import numpy as np\n",
    "import hashlib\n",
    "import time\n",
    "\n",
    "from sha3.sha3 import sha3_256\n",
    "# Your sha3_256, absorb, squeeze, keccak_f functions go here\n",
    "\n",
    "def benchmark_and_verify(input_bytes):\n",
    "\n",
    "    # input_bytes = bytes(b'\\x61\\x62\\x63')\n",
    "\n",
    "    # Your SHA3-256 Implementation\n",
    "    start_time = time.perf_counter()\n",
    "    my_hash = sha3_256(input_bytes).hex()\n",
    "    my_time = time.perf_counter() - start_time\n",
    "\n",
    "    # hashlib Library Implementation\n",
    "    start_time = time.perf_counter()\n",
    "    lib_hash = hashlib.sha3_256(input_bytes).hexdigest()\n",
    "    lib_time = time.perf_counter() - start_time\n",
    "    \n",
    "    print(f\"Input (first 64 bytes or full length): {input_bytes[:64] if len(input_bytes) > 64 else input_bytes}...\")\n",
    "    print(f\"My SHA3-256 Time: {my_time:.2f} s, Length: {len(my_hash)}, Hash: {my_hash}\")\n",
    "    print(f\"Lib SHA3-256 Time: {lib_time:.2f} s, Length: {len(lib_hash)}, Hash: {lib_hash}\")\n",
    "\n",
    "    # Verify Outputs\n",
    "    assert my_hash == lib_hash, f\"Mismatch: {my_hash} != {lib_hash}\"\n",
    "\n",
    "    print(\"Verification: PASSED\\n\")\n"
   ]
  },
  {
   "cell_type": "code",
   "execution_count": null,
   "metadata": {},
   "outputs": [],
   "source": [
    "# Warm up\n",
    "# sha3_256(bytes(np.random.randint(0, 256, 135, dtype=np.uint8))).hex()\n",
    "\n",
    "# # Test with different sizes of input\n",
    "# for size in [64, 256, 1024, 4096, 16384]:  # Sizes in bytes\n",
    "#     print(f\"Testing with input size: {size} bytes\")\n",
    "#     input_bytes = bytes(np.random.randint(0, 256, size, dtype=np.uint8))\n",
    "#     benchmark_and_verify(input_bytes)\n",
    "\n",
    "benchmark_and_verify(bytes(b''))\n"
   ]
  }
 ],
 "metadata": {
  "kernelspec": {
   "display_name": "sha-3-numba-w1HLvVn5",
   "language": "python",
   "name": "python3"
  },
  "language_info": {
   "codemirror_mode": {
    "name": "ipython",
    "version": 3
   },
   "file_extension": ".py",
   "mimetype": "text/x-python",
   "name": "python",
   "nbconvert_exporter": "python",
   "pygments_lexer": "ipython3",
   "version": "3.11.5"
  }
 },
 "nbformat": 4,
 "nbformat_minor": 2
}
