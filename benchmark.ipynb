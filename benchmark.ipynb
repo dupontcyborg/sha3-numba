{
 "cells": [
  {
   "cell_type": "code",
   "execution_count": 1,
   "metadata": {},
   "outputs": [],
   "source": [
    "import numpy as np\n",
    "import hashlib\n",
    "import time\n",
    "\n",
    "from sha3 import Sha3\n",
    "\n",
    "def benchmark_and_verify(bit_length, input_bytes, num_iterations):\n",
    "\n",
    "    # Python SHA3 Implementation\n",
    "    start_time = time.perf_counter()\n",
    "    for _ in range(num_iterations):\n",
    "        sha3_256 = Sha3(bit_length)\n",
    "        sha3_256.update(input_bytes)\n",
    "        my_hash = sha3_256.hexdigest()\n",
    "    my_time = time.perf_counter() - start_time\n",
    "\n",
    "    # HashLib SHA3 Implementation\n",
    "    hashlib_func = hashlib.sha3_256 if bit_length == 256 else hashlib.sha3_512\n",
    "    start_time = time.perf_counter()\n",
    "    for _ in range(num_iterations):\n",
    "        lib_hash = hashlib_func(input_bytes).hexdigest()\n",
    "    lib_time = time.perf_counter() - start_time\n",
    "    \n",
    "    print(f\"Input (first 64 bytes or full length): {input_bytes[:64] if len(input_bytes) > 64 else input_bytes}...\")\n",
    "    print(f\"Python  SHA3-{bit_length} Time: {my_time:.4f} s, Hashes/s: {num_iterations/my_time:.1f}, Length: {len(my_hash)}, Hash: {my_hash}\")\n",
    "    print(f\"HashLib SHA3-{bit_length} Time: {lib_time:.4f} s, Hashes/s: {num_iterations/lib_time:.1f}, Length: {len(lib_hash)}, Hash: {lib_hash}\")\n",
    "\n",
    "    # Verify Outputs\n",
    "    assert my_hash == lib_hash, f\"Mismatch: {my_hash} != {lib_hash}\"\n",
    "    print(\"Verification: PASSED\\n\")\n"
   ]
  },
  {
   "cell_type": "code",
   "execution_count": 2,
   "metadata": {},
   "outputs": [
    {
     "name": "stdout",
     "output_type": "stream",
     "text": [
      "Input (first 64 bytes or full length): b''...\n",
      "Python  SHA3-256 Time: 1.1071 s, Hashes/s: 903.3, Length: 64, Hash: a7ffc6f8bf1ed76651c14756a061d662f580ff4de43b49fa82d80a4b80f8434a\n",
      "HashLib SHA3-256 Time: 0.0006 s, Hashes/s: 1620089.0, Length: 64, Hash: a7ffc6f8bf1ed76651c14756a061d662f580ff4de43b49fa82d80a4b80f8434a\n",
      "Verification: PASSED\n",
      "\n",
      "Input (first 64 bytes or full length): b'Hello, World!'...\n",
      "Python  SHA3-256 Time: 1.0499 s, Hashes/s: 952.5, Length: 64, Hash: 1af17a664e3fa8e419b8ba05c2a173169df76162a5a286e0c405b460d478f7ef\n",
      "HashLib SHA3-256 Time: 0.0006 s, Hashes/s: 1597444.1, Length: 64, Hash: 1af17a664e3fa8e419b8ba05c2a173169df76162a5a286e0c405b460d478f7ef\n",
      "Verification: PASSED\n",
      "\n",
      "Input (first 64 bytes or full length): b'[&\\xcd\\x96\\xf9\\xdf\\x1d\\xef\\x96\\x83>\\xe9mCq\\x08\\xc3E\\xb8\\xd0\\x80\\x92@\\xc2EM\\nU\\x93\\xec\\xbf\\xaf\\x91\\x10h\\xee6\\xa8\\xd9ji\\x05R\\xfd\\xf0\\xec\\x83\\xb540LMe\\xf1\\xdf7a\\x92\\x96\\xd7\\xbe}R\\x17'...\n",
      "Python  SHA3-256 Time: 8.3189 s, Hashes/s: 120.2, Length: 64, Hash: bf7fd5194b0fc24fadd311d21dabf12c18e7a3aa33d2e19ba439d482e89a46fe\n",
      "HashLib SHA3-256 Time: 0.0021 s, Hashes/s: 480990.8, Length: 64, Hash: bf7fd5194b0fc24fadd311d21dabf12c18e7a3aa33d2e19ba439d482e89a46fe\n",
      "Verification: PASSED\n",
      "\n",
      "Input (first 64 bytes or full length): b''...\n",
      "Python  SHA3-512 Time: 1.0573 s, Hashes/s: 945.8, Length: 128, Hash: a69f73cca23a9ac5c8b567dc185a756e97c982164fe25859e0d1dcc1475c80a615b2123af1f5f94c11e3e9402c3ac558f500199d95b6d3e301758586281dcd26\n",
      "HashLib SHA3-512 Time: 0.0006 s, Hashes/s: 1631433.2, Length: 128, Hash: a69f73cca23a9ac5c8b567dc185a756e97c982164fe25859e0d1dcc1475c80a615b2123af1f5f94c11e3e9402c3ac558f500199d95b6d3e301758586281dcd26\n",
      "Verification: PASSED\n",
      "\n",
      "Input (first 64 bytes or full length): b'Hello, World!'...\n",
      "Python  SHA3-512 Time: 1.0673 s, Hashes/s: 936.9, Length: 128, Hash: 38e05c33d7b067127f217d8c856e554fcff09c9320b8a5979ce2ff5d95dd27ba35d1fba50c562dfd1d6cc48bc9c5baa4390894418cc942d968f97bcb659419ed\n",
      "HashLib SHA3-512 Time: 0.0006 s, Hashes/s: 1621949.7, Length: 128, Hash: 38e05c33d7b067127f217d8c856e554fcff09c9320b8a5979ce2ff5d95dd27ba35d1fba50c562dfd1d6cc48bc9c5baa4390894418cc942d968f97bcb659419ed\n",
      "Verification: PASSED\n",
      "\n",
      "Input (first 64 bytes or full length): b'*9sj\\x9e3\\xcc\\xba\\xdc\\xc4\\xda\\x91l|wA\\xf1@ \\x90h[x\\xa0\\xef ff\\xdf_\\x12fq\\x1e\\xb7\\x92\\xdbS[\\xdd\\xea\"vxj\\x9e!\\xf9\\xed\\x9f\\x04\\xa7\\xab\\xef+\\xd3\\xff\\r\\xf7\\x07$\\xacE\\x0b'...\n",
      "Python  SHA3-512 Time: 14.6539 s, Hashes/s: 68.2, Length: 128, Hash: a49794f3877982c8e7cf0be8d85ad383dfeaf9c61f080d48da8e76d6241c6e87bce81a6018caf05777d73b0ce2532da99d733579a808a3ccdb8a211175ba199e\n",
      "HashLib SHA3-512 Time: 0.0033 s, Hashes/s: 301231.3, Length: 128, Hash: a49794f3877982c8e7cf0be8d85ad383dfeaf9c61f080d48da8e76d6241c6e87bce81a6018caf05777d73b0ce2532da99d733579a808a3ccdb8a211175ba199e\n",
      "Verification: PASSED\n",
      "\n"
     ]
    }
   ],
   "source": [
    "BIT_LENGTHS = [256, 512] # SHA3-256, SHA3-512\n",
    "NUM_ITERATIONS = 1000 # Number of iterations to run\n",
    "\n",
    "\n",
    "for bit_length in BIT_LENGTHS:\n",
    "\n",
    "    # First, test empty input\n",
    "    benchmark_and_verify(bit_length, bytes(), NUM_ITERATIONS)\n",
    "\n",
    "    # Test 'Hello, World!' input\n",
    "    benchmark_and_verify(bit_length, bytes('Hello, World!', 'utf-8'), NUM_ITERATIONS)\n",
    "\n",
    "    # Test random 1000 bytes\n",
    "    benchmark_and_verify(bit_length, np.random.bytes(1000), NUM_ITERATIONS)"
   ]
  }
 ],
 "metadata": {
  "kernelspec": {
   "display_name": "sha-3-numba-w1HLvVn5",
   "language": "python",
   "name": "python3"
  },
  "language_info": {
   "codemirror_mode": {
    "name": "ipython",
    "version": 3
   },
   "file_extension": ".py",
   "mimetype": "text/x-python",
   "name": "python",
   "nbconvert_exporter": "python",
   "pygments_lexer": "ipython3",
   "version": "3.11.5"
  }
 },
 "nbformat": 4,
 "nbformat_minor": 2
}
