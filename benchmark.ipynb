{
 "cells": [
  {
   "cell_type": "code",
   "execution_count": null,
   "metadata": {},
   "outputs": [],
   "source": [
    "import numpy as np\n",
    "import hashlib\n",
    "import time\n",
    "\n",
    "from sha3 import sha3_oop, sha3_functional, sha3_numba\n",
    "\n",
    "def benchmark_and_verify(bit_length, input_bytes, num_iterations):\n",
    "\n",
    "    # Python SHA3 Implementation (OOP)\n",
    "    start_time = time.perf_counter()\n",
    "    for _ in range(num_iterations):\n",
    "        sha3_256 = sha3_oop(bit_length)\n",
    "        sha3_256.update(input_bytes)\n",
    "        my_hash = sha3_256.hexdigest()\n",
    "    my_time = time.perf_counter() - start_time\n",
    "\n",
    "    # Python SHA3 Implementation (Functional)\n",
    "    start_time = time.perf_counter()\n",
    "    for _ in range(num_iterations):\n",
    "        func_hash = sha3_functional(bit_length, input_bytes).hex()\n",
    "    func_time = time.perf_counter() - start_time\n",
    "\n",
    "    # Warm up\n",
    "    sha3_numba(bit_length, input_bytes)\n",
    "    \n",
    "    # Python SHA3 Implementation (Functional)\n",
    "    start_time = time.perf_counter()\n",
    "    for _ in range(num_iterations):\n",
    "        numba_hash = sha3_numba(bit_length, input_bytes).tobytes().hex()\n",
    "    numba_time = time.perf_counter() - start_time\n",
    "\n",
    "    # HashLib SHA3 Implementation\n",
    "    hashlib_func = hashlib.sha3_256 if bit_length == 256 else hashlib.sha3_512\n",
    "    start_time = time.perf_counter()\n",
    "    for _ in range(num_iterations):\n",
    "        lib_hash = hashlib_func(input_bytes).hexdigest()\n",
    "    lib_time = time.perf_counter() - start_time\n",
    "    \n",
    "    print(f\"Input Length: {len(input_bytes)} bytes, Iterations: {num_iterations}\")\n",
    "    print(f\"Python  SHA3-{bit_length} Time: {my_time:.4f} s, Hashes/s: {num_iterations/my_time:.1f}, Length: {len(my_hash)}, Hash: {my_hash}\")\n",
    "    print(f\"Func.   SHA3-{bit_length} Time: {func_time:.4f} s, Hashes/s: {num_iterations/func_time:.1f}, Length: {len(func_hash)}, Hash: {func_hash}\")\n",
    "    print(f\"Numba   SHA3-{bit_length} Time: {numba_time:.4f} s, Hashes/s: {num_iterations/numba_time:.1f}, Length: {len(numba_hash)}, Hash: {numba_hash}\")\n",
    "    print(f\"HashLib SHA3-{bit_length} Time: {lib_time:.4f} s, Hashes/s: {num_iterations/lib_time:.1f}, Length: {len(lib_hash)}, Hash: {lib_hash}\")\n",
    "\n",
    "    # Verify Outputs\n",
    "    assert my_hash == lib_hash, f\"Mismatch: {my_hash} != {lib_hash}\"\n",
    "    assert func_hash == lib_hash, f\"Mismatch: {func_hash} != {lib_hash}\"\n",
    "    assert numba_hash == lib_hash, f\"Mismatch: {numba_hash} != {lib_hash}\"\n",
    "    print(\"Verification: PASSED\\n\")\n"
   ]
  },
  {
   "cell_type": "code",
   "execution_count": null,
   "metadata": {},
   "outputs": [],
   "source": [
    "BIT_LENGTHS = [256, 512] # SHA3-256, SHA3-512\n",
    "NUM_ITERATIONS = 1000 # Number of iterations to run\n",
    "\n",
    "for bit_length in BIT_LENGTHS:\n",
    "\n",
    "    # First, test empty input\n",
    "    benchmark_and_verify(bit_length, bytes(), NUM_ITERATIONS)\n",
    "\n",
    "    # Test 'Hello, World!' input\n",
    "    benchmark_and_verify(bit_length, bytes('Hello, World!', 'utf-8'), NUM_ITERATIONS)\n",
    "\n",
    "    # Test random 1000 bytes\n",
    "    benchmark_and_verify(bit_length, np.random.bytes(1000), NUM_ITERATIONS)"
   ]
  }
 ],
 "metadata": {
  "kernelspec": {
   "display_name": "sha-3-numba-w1HLvVn5",
   "language": "python",
   "name": "python3"
  },
  "language_info": {
   "codemirror_mode": {
    "name": "ipython",
    "version": 3
   },
   "file_extension": ".py",
   "mimetype": "text/x-python",
   "name": "python",
   "nbconvert_exporter": "python",
   "pygments_lexer": "ipython3",
   "version": "3.11.5"
  }
 },
 "nbformat": 4,
 "nbformat_minor": 2
}
