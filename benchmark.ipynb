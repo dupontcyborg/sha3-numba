{
 "cells": [
  {
   "cell_type": "code",
   "execution_count": 1,
   "metadata": {},
   "outputs": [],
   "source": [
    "import numpy as np\n",
    "import hashlib\n",
    "import time\n",
    "\n",
    "from sha3 import Sha3\n",
    "\n",
    "def benchmark_and_verify(bit_length, input_bytes):\n",
    "\n",
    "    # Python SHA3 Implementation\n",
    "    start_time = time.perf_counter()\n",
    "    for _ in range(1000):\n",
    "        sha3_256 = Sha3(bit_length)\n",
    "        sha3_256.update(input_bytes)\n",
    "        my_hash = sha3_256.hexdigest()\n",
    "    my_time = time.perf_counter() - start_time\n",
    "\n",
    "    # HashLib SHA3 Implementation\n",
    "    hashlib_func = hashlib.sha3_256 if bit_length == 256 else hashlib.sha3_512\n",
    "    start_time = time.perf_counter()\n",
    "    for _ in range(1000):\n",
    "        lib_hash = hashlib_func(input_bytes).hexdigest()\n",
    "    lib_time = time.perf_counter() - start_time\n",
    "    \n",
    "    print(f\"Input (first 64 bytes or full length): {input_bytes[:64] if len(input_bytes) > 64 else input_bytes}...\")\n",
    "    print(f\"Python  SHA3-{bit_length} Time: {my_time:.4f} s, Length: {len(my_hash)}, Hash: {my_hash}\")\n",
    "    print(f\"HashLib SHA3-{bit_length} Time: {lib_time:.4f} s, Length: {len(lib_hash)}, Hash: {lib_hash}\")\n",
    "\n",
    "    # Verify Outputs\n",
    "    assert my_hash == lib_hash, f\"Mismatch: {my_hash} != {lib_hash}\"\n",
    "    print(\"Verification: PASSED\\n\")\n"
   ]
  },
  {
   "cell_type": "code",
   "execution_count": 2,
   "metadata": {},
   "outputs": [
    {
     "name": "stdout",
     "output_type": "stream",
     "text": [
      "Input (first 64 bytes or full length): b''...\n",
      "Python  SHA3-256 Time: 1.1385 s, Length: 64, Hash: a7ffc6f8bf1ed76651c14756a061d662f580ff4de43b49fa82d80a4b80f8434a\n",
      "HashLib SHA3-256 Time: 0.0006 s, Length: 64, Hash: a7ffc6f8bf1ed76651c14756a061d662f580ff4de43b49fa82d80a4b80f8434a\n",
      "Verification: PASSED\n",
      "\n",
      "Input (first 64 bytes or full length): b'Hello, World!'...\n",
      "Python  SHA3-256 Time: 1.0648 s, Length: 64, Hash: 1af17a664e3fa8e419b8ba05c2a173169df76162a5a286e0c405b460d478f7ef\n",
      "HashLib SHA3-256 Time: 0.0006 s, Length: 64, Hash: 1af17a664e3fa8e419b8ba05c2a173169df76162a5a286e0c405b460d478f7ef\n",
      "Verification: PASSED\n",
      "\n",
      "Input (first 64 bytes or full length): b'\\xff7D5?c\\xee\\xe4\\xc0\\xa7\\xb0\\x0c\\xba\\xae\\xe0\\xff/\\xf9\\x073\\xfa\\x92\\x80\\xd1T\\xd5\\x80;\\xcbf\\xa4\\x96\\xae\\xbd\\xd93\\xc5Lp\\xb1\\xb65x\\xfb\\xfa\\xcf\\x8e=]54\\xc7\\xa1\\x01\\x91\\x16\\x86\\x88uM\\xfb\\xf3\\xa7\\xfc'...\n",
      "Python  SHA3-256 Time: 8.4416 s, Length: 64, Hash: c79b785e18c08e5666b053a76f5d7e0e904bde5fc1f75b34e8a5efa09ffb56ea\n",
      "HashLib SHA3-256 Time: 0.0020 s, Length: 64, Hash: c79b785e18c08e5666b053a76f5d7e0e904bde5fc1f75b34e8a5efa09ffb56ea\n",
      "Verification: PASSED\n",
      "\n",
      "Input (first 64 bytes or full length): b''...\n",
      "Python  SHA3-512 Time: 1.0594 s, Length: 128, Hash: a69f73cca23a9ac5c8b567dc185a756e97c982164fe25859e0d1dcc1475c80a615b2123af1f5f94c11e3e9402c3ac558f500199d95b6d3e301758586281dcd26\n",
      "HashLib SHA3-512 Time: 0.0006 s, Length: 128, Hash: a69f73cca23a9ac5c8b567dc185a756e97c982164fe25859e0d1dcc1475c80a615b2123af1f5f94c11e3e9402c3ac558f500199d95b6d3e301758586281dcd26\n",
      "Verification: PASSED\n",
      "\n",
      "Input (first 64 bytes or full length): b'Hello, World!'...\n",
      "Python  SHA3-512 Time: 1.0594 s, Length: 128, Hash: 38e05c33d7b067127f217d8c856e554fcff09c9320b8a5979ce2ff5d95dd27ba35d1fba50c562dfd1d6cc48bc9c5baa4390894418cc942d968f97bcb659419ed\n",
      "HashLib SHA3-512 Time: 0.0006 s, Length: 128, Hash: 38e05c33d7b067127f217d8c856e554fcff09c9320b8a5979ce2ff5d95dd27ba35d1fba50c562dfd1d6cc48bc9c5baa4390894418cc942d968f97bcb659419ed\n",
      "Verification: PASSED\n",
      "\n",
      "Input (first 64 bytes or full length): b'\\x83\\x03|R+#\\xb5\\xd67\\x91]\\xcf\\x15\\x05 \\x1a#\\xdb\\xd1\\xaek\\x19\\x18\\xa4\\xc4\\xf5\\xe9%\\xe5l\\xce\\x01\\x08y\\x86X\\x9e \\x83\\xcap7\\x1a\\xe1\\xc8y\\x95E}\\xfc\\x87\\x1a\\xba\\x03\\x96\\xa1\\xe08\\xa4\\xeb\\x8e\\xd8\\xaaj'...\n",
      "Python  SHA3-512 Time: 14.7869 s, Length: 128, Hash: 9e824cbb48539b0fc2f8182d3679d83f93de3754361764d25a5c1999aaa905a8baa15c79715df7e60222da9907c66bfbb1fb20459932e981afab3ccd5ecf211d\n",
      "HashLib SHA3-512 Time: 0.0032 s, Length: 128, Hash: 9e824cbb48539b0fc2f8182d3679d83f93de3754361764d25a5c1999aaa905a8baa15c79715df7e60222da9907c66bfbb1fb20459932e981afab3ccd5ecf211d\n",
      "Verification: PASSED\n",
      "\n"
     ]
    }
   ],
   "source": [
    "bit_lengths = [256, 512]\n",
    "\n",
    "for bit_length in bit_lengths:\n",
    "\n",
    "    # First, test empty input\n",
    "    benchmark_and_verify(bit_length, bytes())\n",
    "\n",
    "    # Test 'Hello, World!' input\n",
    "    benchmark_and_verify(bit_length, bytes('Hello, World!', 'utf-8'))\n",
    "\n",
    "    # Test random 1000 bytes\n",
    "    benchmark_and_verify(bit_length, np.random.bytes(1000))"
   ]
  }
 ],
 "metadata": {
  "kernelspec": {
   "display_name": "sha-3-numba-w1HLvVn5",
   "language": "python",
   "name": "python3"
  },
  "language_info": {
   "codemirror_mode": {
    "name": "ipython",
    "version": 3
   },
   "file_extension": ".py",
   "mimetype": "text/x-python",
   "name": "python",
   "nbconvert_exporter": "python",
   "pygments_lexer": "ipython3",
   "version": "3.11.5"
  }
 },
 "nbformat": 4,
 "nbformat_minor": 2
}
